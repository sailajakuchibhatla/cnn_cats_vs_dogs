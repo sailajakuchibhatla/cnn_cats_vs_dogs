{
 "cells": [
  {
   "cell_type": "code",
   "execution_count": 2,
   "metadata": {},
   "outputs": [],
   "source": [
    "## data handling libraries\n",
    "import numpy as np\n",
    "import pandas as pd\n",
    "import matplotlib.pyplot as plt\n",
    "\n",
    "## image handling libraries\n",
    "import cv2\n",
    "\n",
    "## tensorflow libraries\n",
    "import tensorflow as tf\n",
    "from tensorflow.keras.models import Sequential\n",
    "from tensorflow.keras.layers import Dense, Flatten, Dropout, Activation, Conv2D, MaxPooling2D\n",
    "\n",
    "## os library\n",
    "import os"
   ]
  },
  {
   "cell_type": "code",
   "execution_count": 3,
   "metadata": {},
   "outputs": [],
   "source": [
    "current_dir = \"./dogs-vs-cats/\"\n",
    "train_dir = \"train/\"\n",
    "test_dir = \"test1/\"\n",
    "train_path = os.path.join(current_dir, train_dir)\n",
    "test_path = os.path.join(current_dir, test_dir)"
   ]
  },
  {
   "cell_type": "code",
   "execution_count": 4,
   "metadata": {},
   "outputs": [],
   "source": [
    "input_array = []\n",
    "label_array = []\n",
    "\n",
    "\n",
    "for image in os.listdir(train_path):\n",
    "\n",
    "    # cat = 0, dog = 1\n",
    "    label = image.split(\".\")[0]\n",
    "    label_int = 1 if label == \"dog\" else 0\n",
    "\n",
    "    # change all pictures to gray scale, resize all images\n",
    "    img_array = cv2.imread(os.path.join(train_path,image),cv2.IMREAD_GRAYSCALE)\n",
    "    sized_img_array = cv2.resize(img_array, dsize=(60, 60)) # increase dsize to get clearer pictures\n",
    "\n",
    "\n",
    "    input_array.append(sized_img_array)\n",
    "    label_array.append(label_int)\n",
    "\n",
    "\n",
    "## convert arrays to numpy arrays for efficiency\n",
    "input_array = np.array(input_array).reshape(-1,60,60,1)\n",
    "label_array = np.array(label_array)\n"
   ]
  },
  {
   "cell_type": "code",
   "execution_count": 5,
   "metadata": {},
   "outputs": [],
   "source": [
    "## normalize the data\n",
    "## gray scale ranges from 0 to 255\n",
    "input_array = input_array/255.0"
   ]
  },
  {
   "cell_type": "code",
   "execution_count": 6,
   "metadata": {},
   "outputs": [
    {
     "name": "stdout",
     "output_type": "stream",
     "text": [
      "Train on 20000 samples, validate on 5000 samples\n",
      "Epoch 1/10\n",
      "20000/20000 [==============================] - 43s 2ms/sample - loss: 0.6031 - accuracy: 0.6662 - val_loss: 0.5130 - val_accuracy: 0.7550\n",
      "Epoch 2/10\n",
      "20000/20000 [==============================] - 44s 2ms/sample - loss: 0.4981 - accuracy: 0.7613 - val_loss: 0.4799 - val_accuracy: 0.7766\n",
      "Epoch 3/10\n",
      "20000/20000 [==============================] - 43s 2ms/sample - loss: 0.4457 - accuracy: 0.7926 - val_loss: 0.4633 - val_accuracy: 0.7758\n",
      "Epoch 4/10\n",
      "20000/20000 [==============================] - 41s 2ms/sample - loss: 0.4020 - accuracy: 0.8183 - val_loss: 0.4515 - val_accuracy: 0.7888\n",
      "Epoch 5/10\n",
      "20000/20000 [==============================] - 41s 2ms/sample - loss: 0.3573 - accuracy: 0.8396 - val_loss: 0.4464 - val_accuracy: 0.7954\n",
      "Epoch 6/10\n",
      "20000/20000 [==============================] - 52s 3ms/sample - loss: 0.3192 - accuracy: 0.8612 - val_loss: 0.4933 - val_accuracy: 0.7816\n",
      "Epoch 7/10\n",
      "20000/20000 [==============================] - 48s 2ms/sample - loss: 0.2723 - accuracy: 0.8835 - val_loss: 0.4432 - val_accuracy: 0.8028\n",
      "Epoch 8/10\n",
      "20000/20000 [==============================] - 52s 3ms/sample - loss: 0.2229 - accuracy: 0.9089 - val_loss: 0.4787 - val_accuracy: 0.8024\n",
      "Epoch 9/10\n",
      "20000/20000 [==============================] - 42s 2ms/sample - loss: 0.1704 - accuracy: 0.9324 - val_loss: 0.5443 - val_accuracy: 0.8024\n",
      "Epoch 10/10\n",
      "20000/20000 [==============================] - 44s 2ms/sample - loss: 0.1248 - accuracy: 0.9524 - val_loss: 0.6079 - val_accuracy: 0.7980\n"
     ]
    },
    {
     "data": {
      "text/plain": [
       "<tensorflow.python.keras.callbacks.History at 0x64891b5d0>"
      ]
     },
     "execution_count": 6,
     "metadata": {},
     "output_type": "execute_result"
    }
   ],
   "source": [
    "## convolutional neural network \n",
    "\n",
    "## create a Sequential model\n",
    "model = Sequential()\n",
    "\n",
    "## add first convolutional layer with 32 filters and (3,3) kernel size\n",
    "## activation is relu \n",
    "model.add(Conv2D(32,(3,3), activation = 'relu', input_shape = input_array.shape[1:]))\n",
    "model.add(MaxPooling2D(pool_size = (2,2)))\n",
    "\n",
    "## add another convolutional layer with 64 filters and (3,3) kernel size\n",
    "model.add(Conv2D(64,(3,3), activation = 'relu'))\n",
    "model.add(MaxPooling2D(pool_size = (2,2)))\n",
    "\n",
    "model.add(Flatten())\n",
    "\n",
    "## add dense layer with relu \n",
    "model.add(Dense(64, activation='relu'))\n",
    "\n",
    "## add another dense layer with one output result using sigmoid\n",
    "model.add(Dense(1, activation='sigmoid'))\n",
    "\n",
    "model.compile(optimizer=\"adam\",\n",
    "              loss='binary_crossentropy',\n",
    "              metrics=['accuracy'])\n",
    "\n",
    "## run training data on model\n",
    "model.fit(input_array, label_array, epochs=10, batch_size=32, validation_split=0.2)\n"
   ]
  },
  {
   "cell_type": "code",
   "execution_count": 7,
   "metadata": {},
   "outputs": [],
   "source": [
    "input_test_array = []\n",
    "img_num_array = []\n",
    "\n",
    "    \n",
    "for image in os.listdir(test_path):\n",
    "\n",
    "    # img numbers\n",
    "    img_num_array.append(image.split(\".\")[0])\n",
    "\n",
    "    # change all pictures to gray scale, resize all images\n",
    "    img_array = cv2.imread(os.path.join(test_path,image),cv2.IMREAD_GRAYSCALE)\n",
    "    sized_img_array = cv2.resize(img_array, dsize=(60, 60)) # increase dsize to get clearer pictures\n",
    "\n",
    "    input_test_array.append(sized_img_array)\n",
    "\n",
    "\n",
    "\n",
    "## convert arrays to numpy arrays\n",
    "input_test_array = np.array(input_test_array).reshape(-1,60,60,1)\n",
    "img_num_array = np.array(img_num_array)\n"
   ]
  },
  {
   "cell_type": "code",
   "execution_count": 8,
   "metadata": {},
   "outputs": [],
   "source": [
    "## normalize the data\n",
    "input_test_array = input_test_array/255.0"
   ]
  },
  {
   "cell_type": "code",
   "execution_count": 9,
   "metadata": {},
   "outputs": [],
   "source": [
    "## use model to predict test data\n",
    "predictions = model.predict(input_test_array)"
   ]
  },
  {
   "cell_type": "code",
   "execution_count": 10,
   "metadata": {},
   "outputs": [],
   "source": [
    "## create array with dog(1) or cat(0) predictions\n",
    "int_pred = [int(round(p[0])) for p in predictions]"
   ]
  },
  {
   "cell_type": "code",
   "execution_count": 11,
   "metadata": {},
   "outputs": [],
   "source": [
    "## create a dataframe out of predictions\n",
    "final_dataframe = pd.DataFrame({'img_num':img_num_array, 'label':int_pred})"
   ]
  },
  {
   "cell_type": "code",
   "execution_count": 12,
   "metadata": {},
   "outputs": [],
   "source": [
    "final_dataframe.to_csv(\"prediction_results.csv\", index=False)"
   ]
  },
  {
   "cell_type": "code",
   "execution_count": 13,
   "metadata": {},
   "outputs": [
    {
     "data": {
      "text/html": [
       "<div>\n",
       "<style scoped>\n",
       "    .dataframe tbody tr th:only-of-type {\n",
       "        vertical-align: middle;\n",
       "    }\n",
       "\n",
       "    .dataframe tbody tr th {\n",
       "        vertical-align: top;\n",
       "    }\n",
       "\n",
       "    .dataframe thead th {\n",
       "        text-align: right;\n",
       "    }\n",
       "</style>\n",
       "<table border=\"1\" class=\"dataframe\">\n",
       "  <thead>\n",
       "    <tr style=\"text-align: right;\">\n",
       "      <th></th>\n",
       "      <th>img_num</th>\n",
       "      <th>label</th>\n",
       "    </tr>\n",
       "  </thead>\n",
       "  <tbody>\n",
       "    <tr>\n",
       "      <th>0</th>\n",
       "      <td>9733</td>\n",
       "      <td>0</td>\n",
       "    </tr>\n",
       "    <tr>\n",
       "      <th>1</th>\n",
       "      <td>63</td>\n",
       "      <td>0</td>\n",
       "    </tr>\n",
       "    <tr>\n",
       "      <th>2</th>\n",
       "      <td>6400</td>\n",
       "      <td>1</td>\n",
       "    </tr>\n",
       "    <tr>\n",
       "      <th>3</th>\n",
       "      <td>823</td>\n",
       "      <td>1</td>\n",
       "    </tr>\n",
       "    <tr>\n",
       "      <th>4</th>\n",
       "      <td>4217</td>\n",
       "      <td>0</td>\n",
       "    </tr>\n",
       "    <tr>\n",
       "      <th>...</th>\n",
       "      <td>...</td>\n",
       "      <td>...</td>\n",
       "    </tr>\n",
       "    <tr>\n",
       "      <th>12495</th>\n",
       "      <td>3561</td>\n",
       "      <td>0</td>\n",
       "    </tr>\n",
       "    <tr>\n",
       "      <th>12496</th>\n",
       "      <td>8434</td>\n",
       "      <td>1</td>\n",
       "    </tr>\n",
       "    <tr>\n",
       "      <th>12497</th>\n",
       "      <td>7707</td>\n",
       "      <td>0</td>\n",
       "    </tr>\n",
       "    <tr>\n",
       "      <th>12498</th>\n",
       "      <td>6419</td>\n",
       "      <td>0</td>\n",
       "    </tr>\n",
       "    <tr>\n",
       "      <th>12499</th>\n",
       "      <td>1376</td>\n",
       "      <td>1</td>\n",
       "    </tr>\n",
       "  </tbody>\n",
       "</table>\n",
       "<p>12500 rows × 2 columns</p>\n",
       "</div>"
      ],
      "text/plain": [
       "      img_num  label\n",
       "0        9733      0\n",
       "1          63      0\n",
       "2        6400      1\n",
       "3         823      1\n",
       "4        4217      0\n",
       "...       ...    ...\n",
       "12495    3561      0\n",
       "12496    8434      1\n",
       "12497    7707      0\n",
       "12498    6419      0\n",
       "12499    1376      1\n",
       "\n",
       "[12500 rows x 2 columns]"
      ]
     },
     "execution_count": 13,
     "metadata": {},
     "output_type": "execute_result"
    }
   ],
   "source": [
    "final_dataframe"
   ]
  },
  {
   "cell_type": "code",
   "execution_count": null,
   "metadata": {},
   "outputs": [],
   "source": []
  }
 ],
 "metadata": {
  "kernelspec": {
   "display_name": "Python 3",
   "language": "python",
   "name": "python3"
  },
  "language_info": {
   "codemirror_mode": {
    "name": "ipython",
    "version": 3
   },
   "file_extension": ".py",
   "mimetype": "text/x-python",
   "name": "python",
   "nbconvert_exporter": "python",
   "pygments_lexer": "ipython3",
   "version": "3.7.3"
  }
 },
 "nbformat": 4,
 "nbformat_minor": 2
}
